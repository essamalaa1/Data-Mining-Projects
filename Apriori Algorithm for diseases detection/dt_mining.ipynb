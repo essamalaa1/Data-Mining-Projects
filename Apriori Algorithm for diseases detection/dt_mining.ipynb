{
 "cells": [
  {
   "cell_type": "code",
   "execution_count": 1,
   "metadata": {},
   "outputs": [],
   "source": [
    "import pandas as pd\n",
    "import numpy as np\n",
    "import warnings\n",
    "from sklearn.preprocessing import LabelEncoder \n",
    "from mlxtend.frequent_patterns import apriori\n",
    "from mlxtend.frequent_patterns import association_rules\n",
    "warnings.filterwarnings(\"ignore\", category=DeprecationWarning)"
   ]
  },
  {
   "cell_type": "code",
   "execution_count": 2,
   "metadata": {},
   "outputs": [],
   "source": [
    "covid=pd.read_csv(\"Covid Dataset.csv\")"
   ]
  },
  {
   "cell_type": "code",
   "execution_count": 3,
   "metadata": {},
   "outputs": [],
   "source": [
    "e=LabelEncoder()\n",
    "\n",
    "covid['Breathing Problem']=e.fit_transform(covid['Breathing Problem'])\n",
    "covid['Fever']=e.fit_transform(covid['Fever'])\n",
    "covid['Dry Cough']=e.fit_transform(covid['Dry Cough'])\n",
    "covid['Sore throat']=e.fit_transform(covid['Sore throat'])\n",
    "covid['Running Nose']=e.fit_transform(covid['Running Nose'])\n",
    "covid['Asthma']=e.fit_transform(covid['Asthma'])\n",
    "covid['Chronic Lung Disease']=e.fit_transform(covid['Chronic Lung Disease'])\n",
    "covid['Headache']=e.fit_transform(covid['Headache'])\n",
    "covid['Heart Disease']=e.fit_transform(covid['Heart Disease'])\n",
    "covid['Diabetes']=e.fit_transform(covid['Diabetes'])\n",
    "covid['Hyper Tension']=e.fit_transform(covid['Hyper Tension'])\n",
    "covid['Abroad travel']=e.fit_transform(covid['Abroad travel'])\n",
    "covid['Contact with COVID Patient']=e.fit_transform(covid['Contact with COVID Patient'])\n",
    "covid['Attended Large Gathering']=e.fit_transform(covid['Attended Large Gathering'])\n",
    "covid['Visited Public Exposed Places']=e.fit_transform(covid['Visited Public Exposed Places'])\n",
    "covid['Family working in Public Exposed Places']=e.fit_transform(covid['Family working in Public Exposed Places'])\n",
    "covid['Wearing Masks']=e.fit_transform(covid['Wearing Masks'])\n",
    "covid['Sanitization from Market']=e.fit_transform(covid['Sanitization from Market'])\n",
    "covid['COVID-19']=e.fit_transform(covid['COVID-19'])\n",
    "covid['Dry Cough']=e.fit_transform(covid['Dry Cough'])\n",
    "covid['Sore throat']=e.fit_transform(covid['Sore throat'])\n",
    "covid['Gastrointestinal ']=e.fit_transform(covid['Gastrointestinal '])\n",
    "covid['Fatigue ']=e.fit_transform(covid['Fatigue '])"
   ]
  },
  {
   "cell_type": "code",
   "execution_count": 4,
   "metadata": {},
   "outputs": [],
   "source": [
    "frequent_itemsets = apriori(covid, min_support=0.1, use_colnames=True)\n",
    "\n",
    "rules = association_rules(frequent_itemsets, metric=\"lift\", min_threshold=1)\n",
    "\n",
    "rules.sort_values('confidence', ascending = False, inplace = True)\n"
   ]
  },
  {
   "cell_type": "code",
   "execution_count": 5,
   "metadata": {},
   "outputs": [
    {
     "data": {
      "text/plain": [
       "Index(['Breathing Problem', 'Fever', 'Dry Cough', 'Sore throat',\n",
       "       'Running Nose', 'Asthma', 'Chronic Lung Disease', 'Headache',\n",
       "       'Heart Disease', 'Diabetes', 'Hyper Tension', 'Fatigue ',\n",
       "       'Gastrointestinal ', 'Abroad travel', 'Contact with COVID Patient',\n",
       "       'Attended Large Gathering', 'Visited Public Exposed Places',\n",
       "       'Family working in Public Exposed Places', 'Wearing Masks',\n",
       "       'Sanitization from Market', 'COVID-19'],\n",
       "      dtype='object')"
      ]
     },
     "execution_count": 5,
     "metadata": {},
     "output_type": "execute_result"
    }
   ],
   "source": [
    "# rules\n",
    "covid.columns"
   ]
  },
  {
   "cell_type": "code",
   "execution_count": 6,
   "metadata": {},
   "outputs": [
    {
     "name": "stdout",
     "output_type": "stream",
     "text": [
      "COVID-19 detected with 93.07% confidence.\n"
     ]
    }
   ],
   "source": [
    "warnings.filterwarnings(\"ignore\", category=DeprecationWarning)\n",
    "\n",
    "input_symptoms = [\"Breathing Problem\"]\n",
    "\n",
    "filtered_rules = rules[rules[\"antecedents\"].apply(lambda x: set(x) == set(input_symptoms))]\n",
    "\n",
    "input_disease = [\"COVID-19\"]\n",
    "\n",
    "filtered_rules = filtered_rules[filtered_rules[\"consequents\"].apply(lambda x: set(input_disease).issubset(x))]\n",
    "\n",
    "if any(\"COVID-19\" in consequent for consequent in filtered_rules[\"consequents\"]):\n",
    "    print(\"COVID-19 detected with {:.2f}% confidence.\".format(filtered_rules.iloc[0][\"confidence\"] * 100))\n",
    "else:\n",
    "    print(\"Not COVID-19 with {:.2f}% confidence.\".format((1 - filtered_rules.iloc[0][\"confidence\"]) * 100))"
   ]
  },
  {
   "cell_type": "code",
   "execution_count": 7,
   "metadata": {},
   "outputs": [
    {
     "name": "stdout",
     "output_type": "stream",
     "text": [
      "Dry Cough detected with 83.34% confidence.\n",
      "Sore throat detected with 85.62% confidence.\n",
      "Running Nose detected with 58.99% confidence.\n",
      "Asthma detected with 51.07% confidence.\n",
      "Chronic Lung Disease detected with 42.09% confidence.\n",
      "Headache detected with 44.58% confidence.\n",
      "Heart Disease detected with 39.00% confidence.\n",
      "Diabetes detected with 50.73% confidence.\n",
      "Hyper Tension detected with 51.38% confidence.\n",
      "Fatigue  detected with 52.40% confidence.\n",
      "Gastrointestinal  detected with 44.07% confidence.\n",
      "Abroad travel detected with 47.67% confidence.\n",
      "Contact with COVID Patient detected with 60.12% confidence.\n",
      "Attended Large Gathering detected with 53.25% confidence.\n",
      "Visited Public Exposed Places detected with 54.47% confidence.\n",
      "Family working in Public Exposed Places detected with 42.06% confidence.\n",
      "No Wearing Masks with 6.93% confidence.\n",
      "No Sanitization from Market with 6.93% confidence.\n",
      "COVID-19 detected with 94.22% confidence.\n"
     ]
    }
   ],
   "source": [
    "input_symptoms = ['Breathing Problem', 'Fever']\n",
    "\n",
    "\n",
    "symtoms_list = ['Breathing Problem', 'Fever', 'Dry Cough', 'Sore throat',\n",
    "       'Running Nose', 'Asthma', 'Chronic Lung Disease', 'Headache',\n",
    "       'Heart Disease', 'Diabetes', 'Hyper Tension', 'Fatigue ',\n",
    "       'Gastrointestinal ', 'Abroad travel', 'Contact with COVID Patient',\n",
    "       'Attended Large Gathering', 'Visited Public Exposed Places',\n",
    "       'Family working in Public Exposed Places', 'Wearing Masks',\n",
    "       'Sanitization from Market', 'COVID-19']\n",
    "\n",
    "\n",
    "filtered_rules_f = rules[rules[\"antecedents\"].apply(lambda x: set(x) == set(input_symptoms))]\n",
    "\n",
    "for symtom in symtoms_list:\n",
    "    if  symtom not in input_symptoms:\n",
    "        input__s=str(symtom)\n",
    "        filtered_rules_f_s = filtered_rules_f[filtered_rules_f[\"consequents\"].apply(lambda x: input__s in x)]\n",
    "        if any(symtom in consequent for consequent in filtered_rules_f_s[\"consequents\"]):\n",
    "            print(symtom + \" detected with {:.2f}% confidence.\".format(filtered_rules_f_s.iloc[0][\"confidence\"] * 100))\n",
    "        else:\n",
    "            print(\"No \"+symtom+\" with {:.2f}% confidence.\".format((1 - filtered_rules.iloc[0][\"confidence\"]) * 100))"
   ]
  }
 ],
 "metadata": {
  "kernelspec": {
   "display_name": "tf",
   "language": "python",
   "name": "python3"
  },
  "language_info": {
   "codemirror_mode": {
    "name": "ipython",
    "version": 3
   },
   "file_extension": ".py",
   "mimetype": "text/x-python",
   "name": "python",
   "nbconvert_exporter": "python",
   "pygments_lexer": "ipython3",
   "version": "3.10.6"
  }
 },
 "nbformat": 4,
 "nbformat_minor": 2
}
